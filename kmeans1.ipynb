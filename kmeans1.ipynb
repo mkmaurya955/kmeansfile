{
 "cells": [
  {
   "cell_type": "code",
   "execution_count": 32,
   "metadata": {},
   "outputs": [
    {
     "name": "stdout",
     "output_type": "stream",
     "text": [
      "Mean squared error is:  3035.0601152912686\n",
      "Weights:  [941.43097333]\n",
      "Intercept:  153.39713623331698\n"
     ]
    },
    {
     "data": {
      "image/png": "[encoded data removed]",
      "text/plain": [
       "<Figure size 432x288 with 1 Axes>"
      ]
     },
     "metadata": {
      "needs_background": "light"
     },
     "output_type": "display_data"
    }
   ],
   "source": [
    "import matplotlib.pyplot as plt\n",
    "import numpy as np\n",
    "from sklearn import datasets,linear_model\n",
    "from sklearn.metrics import mean_squared_error \n",
    "\n",
    "\n",
    "diabetes=datasets.load_diabetes()\n",
    "#print(diabetes.keys())\n",
    "#dict_keys(['data', 'target', 'DESCR', 'feature_names', 'data_filename', 'target_filename'])\n",
    "#print(diabetes.data)\n",
    "#print(diabetes.DESCR)\n",
    "diabetes_X=diabetes.data[:, np.newaxis, 2]\n",
    "#print(diabetes_X)\n",
    "diabetes_X_train=diabetes_X[0:-30]\n",
    "diabetes_X_test=diabetes_X[-30:]\n",
    "\n",
    "diabetes_Y_train=diabetes.target[0:-30]\n",
    "diabetes_Y_test=diabetes.target[-30:]\n",
    "\n",
    "#linear model regression\n",
    "model=linear_model.LinearRegression()\n",
    " \n",
    "#draw training data in linear form\n",
    "\n",
    "model.fit(diabetes_X_train, diabetes_Y_train)\n",
    "\n",
    "#after training we test the linear data\n",
    "\n",
    "diabetes_Y_predicted=model.predict(diabetes_X_test)\n",
    "\n",
    "#mean squared error\n",
    "\n",
    "print(\"Mean squared error is: \", mean_squared_error(diabetes_Y_test, diabetes_Y_predicted))\n",
    "\n",
    "print(\"Weights: \", model.coef_)\n",
    "print(\"Intercept: \", model.intercept_)\n",
    "\n",
    "#plot the data which we have to taken\n",
    "plt.scatter(diabetes_X_test, diabetes_Y_test)\n",
    "plt.plot(diabetes_X_test, diabetes_Y_predicted)\n",
    "plt.show()\n",
    "\n"
   ]
  },
  {
   "cell_type": "code",
   "execution_count": 33,
   "metadata": {},
   "outputs": [
    {
     "name": "stdout",
     "output_type": "stream",
     "text": [
      "Mean squared error is:  1826.5364191345425\n",
      "Weights:  [  -1.16924976 -237.18461486  518.30606657  309.04865826 -763.14121622\n",
      "  458.90999325   80.62441437  174.32183366  721.49712065   79.19307944]\n",
      "Intercept:  153.05827988224112\n"
     ]
    }
   ],
   "source": [
    "import matplotlib.pyplot as plt\n",
    "import numpy as np\n",
    "from sklearn import datasets,linear_model\n",
    "from sklearn.metrics import mean_squared_error \n",
    "\n",
    "\n",
    "diabetes=datasets.load_diabetes()\n",
    "#print(diabetes.keys())\n",
    "#dict_keys(['data', 'target', 'DESCR', 'feature_names', 'data_filename', 'target_filename'])\n",
    "#print(diabetes.data)\n",
    "#print(diabetes.DESCR)\n",
    "diabetes_X=diabetes.data\n",
    "#print(diabetes_X)\n",
    "diabetes_X_train=diabetes_X[0:-30]\n",
    "diabetes_X_test=diabetes_X[-30:]\n",
    "\n",
    "diabetes_Y_train=diabetes.target[0:-30]\n",
    "diabetes_Y_test=diabetes.target[-30:]\n",
    "\n",
    "#linear model regression\n",
    "model=linear_model.LinearRegression()\n",
    " \n",
    "#draw training data in linear form\n",
    "\n",
    "model.fit(diabetes_X_train, diabetes_Y_train)\n",
    "\n",
    "#after training we test the linear data\n",
    "\n",
    "diabetes_Y_predicted=model.predict(diabetes_X_test)\n",
    "\n",
    "#mean squared error\n",
    "\n",
    "print(\"Mean squared error is: \", mean_squared_error(diabetes_Y_test, diabetes_Y_predicted))\n",
    "\n",
    "print(\"Weights: \", model.coef_)\n",
    "print(\"Intercept: \", model.intercept_)\n",
    "\n",
    "#plot the data which we have to taken\n",
    "#plt.scatter(diabetes_X_test, diabetes_Y_test)\n",
    "#plt.plot(diabetes_X_test, diabetes_Y_predicted)\n",
    "#plt.show()\n",
    "#Mean squared error is:  3035.0601152912686\n",
    "#Weights:  [941.43097333]\n",
    "#Intercept:  153.39713623331698\n",
    "\n"
   ]
  },
  {
   "cell_type": "code",
   "execution_count": 35,
   "metadata": {},
   "outputs": [
    {
     "name": "stdout",
     "output_type": "stream",
     "text": [
      "Mean squared error is:  0.5000000000000001\n",
      "Weights:  [0.5]\n",
      "Intercept:  2.0\n"
     ]
    },
    {
     "data": {
      "image/png": "[encoded data removed]",
      "text/plain": [
       "<Figure size 432x288 with 1 Axes>"
      ]
     },
     "metadata": {
      "needs_background": "light"
     },
     "output_type": "display_data"
    }
   ],
   "source": [
    "import matplotlib.pyplot as plt\n",
    "import numpy as np\n",
    "from sklearn import datasets,linear_model\n",
    "from sklearn.metrics import mean_squared_error \n",
    "\n",
    "\n",
    "diabetes=datasets.load_diabetes()\n",
    "#print(diabetes.keys())\n",
    "#dict_keys(['data', 'target', 'DESCR', 'feature_names', 'data_filename', 'target_filename'])\n",
    "#print(diabetes.data)\n",
    "#print(diabetes.DESCR)\n",
    "diabetes_X=np.array([[1], [2], [3]])\n",
    "#print(diabetes_X)\n",
    "diabetes_X_train=diabetes_X\n",
    "diabetes_X_test=diabetes_X\n",
    "\n",
    "diabetes_Y_train=np.array([3, 2, 4])\n",
    "diabetes_Y_test=np.array([3, 2, 4])\n",
    "\n",
    "#linear model regression\n",
    "model=linear_model.LinearRegression()\n",
    " \n",
    "#draw training data in linear form\n",
    "\n",
    "model.fit(diabetes_X_train, diabetes_Y_train)\n",
    "\n",
    "#after training we test the linear data\n",
    "\n",
    "diabetes_Y_predicted=model.predict(diabetes_X_test)\n",
    "\n",
    "#mean squared error\n",
    "\n",
    "print(\"Mean squared error is: \", mean_squared_error(diabetes_Y_test, diabetes_Y_predicted))\n",
    "\n",
    "print(\"Weights: \", model.coef_)\n",
    "print(\"Intercept: \", model.intercept_)\n",
    "\n",
    "#plot the data which we have to taken\n",
    "plt.scatter(diabetes_X_test, diabetes_Y_test)\n",
    "plt.plot(diabetes_X_test, diabetes_Y_predicted)\n",
    "plt.show()"
   ]
  },
  {
   "cell_type": "code",
   "execution_count": null,
   "metadata": {},
   "outputs": [],
   "source": []
  }
 ],
 "metadata": {
  "kernelspec": {
   "display_name": "Python 3",
   "language": "python",
   "name": "python3"
  },
  "language_info": {
   "codemirror_mode": {
    "name": "ipython",
    "version": 3
   },
   "file_extension": ".py",
   "mimetype": "text/x-python",
   "name": "python",
   "nbconvert_exporter": "python",
   "pygments_lexer": "ipython3",
   "version": "3.7.1"
  }
 },
 "nbformat": 4,
 "nbformat_minor": 2
}
